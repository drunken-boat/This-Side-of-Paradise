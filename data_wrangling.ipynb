{
 "cells": [
  {
   "cell_type": "code",
   "execution_count": 78,
   "metadata": {},
   "outputs": [
    {
     "name": "stdout",
     "output_type": "stream",
     "text": [
      "<class 'pandas.core.frame.DataFrame'>\n",
      "Int64Index: 1659 entries, 0 to 1662\n",
      "Data columns (total 7 columns):\n",
      " #   Column      Non-Null Count  Dtype \n",
      "---  ------      --------------  ----- \n",
      " 0   省           1640 non-null   object\n",
      " 1   市           1639 non-null   object\n",
      " 2   专业          1640 non-null   object\n",
      " 3   工作年限        1633 non-null   object\n",
      " 4   学历          1628 non-null   object\n",
      " 5   年薪(不包括年终奖)  1552 non-null   object\n",
      " 6   年终奖         1547 non-null   object\n",
      "dtypes: object(7)\n",
      "memory usage: 103.7+ KB\n"
     ]
    }
   ],
   "source": [
    "# -*- encoding: utf-8 -*-\n",
    "\n",
    "import pandas as pd\n",
    "\n",
    "df = pd.read_csv('salary.csv')\n",
    "\n",
    "# drop and rename columns\n",
    "df = df.iloc[:,0:9]\n",
    "df = df.drop(columns=['职位/职称/注册证', '公积金']) \n",
    "df.rename(columns = {'所在市（地区很重要）':'市', '省份':'省'}, inplace = True)\n",
    "\n",
    "# handle missing data of completely empty rows\n",
    "df.dropna(axis=0,how='all',inplace=True)\n",
    "\n",
    "# get overall sense of this dataset\n",
    "df.info()"
   ]
  },
  {
   "attachments": {},
   "cell_type": "markdown",
   "metadata": {},
   "source": [
    "quick statistics knowledge:\n",
    "\n",
    "sampling technique of this shared excel: snowball sampling, which is a type of non-probability sampling, because architects sharing this file to their friends through WeChat.\n"
   ]
  },
  {
   "cell_type": "code",
   "execution_count": 79,
   "metadata": {},
   "outputs": [
    {
     "data": {
      "text/html": [
       "<div>\n",
       "<style scoped>\n",
       "    .dataframe tbody tr th:only-of-type {\n",
       "        vertical-align: middle;\n",
       "    }\n",
       "\n",
       "    .dataframe tbody tr th {\n",
       "        vertical-align: top;\n",
       "    }\n",
       "\n",
       "    .dataframe thead th {\n",
       "        text-align: right;\n",
       "    }\n",
       "</style>\n",
       "<table border=\"1\" class=\"dataframe\">\n",
       "  <thead>\n",
       "    <tr style=\"text-align: right;\">\n",
       "      <th></th>\n",
       "      <th>province</th>\n",
       "      <th>city</th>\n",
       "      <th>major</th>\n",
       "      <th>study_degree</th>\n",
       "      <th>work_year</th>\n",
       "      <th>annual_salary</th>\n",
       "      <th>bounce</th>\n",
       "    </tr>\n",
       "  </thead>\n",
       "  <tbody>\n",
       "    <tr>\n",
       "      <th>0</th>\n",
       "      <td>宁夏</td>\n",
       "      <td>银川</td>\n",
       "      <td>NaN</td>\n",
       "      <td>本科</td>\n",
       "      <td>1.0</td>\n",
       "      <td>3.6</td>\n",
       "      <td>NaN</td>\n",
       "    </tr>\n",
       "    <tr>\n",
       "      <th>1</th>\n",
       "      <td>福建</td>\n",
       "      <td>泉州</td>\n",
       "      <td>建筑</td>\n",
       "      <td>专科</td>\n",
       "      <td>2.0</td>\n",
       "      <td>180.0</td>\n",
       "      <td>NaN</td>\n",
       "    </tr>\n",
       "    <tr>\n",
       "      <th>2</th>\n",
       "      <td>福建</td>\n",
       "      <td>福州</td>\n",
       "      <td>结构</td>\n",
       "      <td>本科</td>\n",
       "      <td>NaN</td>\n",
       "      <td>8.1</td>\n",
       "      <td>NaN</td>\n",
       "    </tr>\n",
       "    <tr>\n",
       "      <th>3</th>\n",
       "      <td>福建</td>\n",
       "      <td>福州</td>\n",
       "      <td>景观</td>\n",
       "      <td>本科</td>\n",
       "      <td>6.0</td>\n",
       "      <td>13.0</td>\n",
       "      <td>2.0</td>\n",
       "    </tr>\n",
       "    <tr>\n",
       "      <th>4</th>\n",
       "      <td>福建</td>\n",
       "      <td>NaN</td>\n",
       "      <td>室内</td>\n",
       "      <td>本科</td>\n",
       "      <td>8.0</td>\n",
       "      <td>NaN</td>\n",
       "      <td>1.0</td>\n",
       "    </tr>\n",
       "  </tbody>\n",
       "</table>\n",
       "</div>"
      ],
      "text/plain": [
       "  province city major study_degree  work_year  annual_salary  bounce\n",
       "0       宁夏   银川   NaN           本科        1.0            3.6     NaN\n",
       "1       福建   泉州    建筑           专科        2.0          180.0     NaN\n",
       "2       福建   福州    结构           本科        NaN            8.1     NaN\n",
       "3       福建   福州    景观           本科        6.0           13.0     2.0\n",
       "4       福建  NaN    室内           本科        8.0            NaN     1.0"
      ]
     },
     "execution_count": 79,
     "metadata": {},
     "output_type": "execute_result"
    }
   ],
   "source": [
    "\n",
    "# oops it's a mess\n",
    "\n",
    "# what I need for statistical model(multivariate regression):\n",
    "\n",
    "# aim data type: 省/市/专业/学历 - str(categorical) | 工作年限/年薪(不包括年终奖)/年终奖 - float64\n",
    "\n",
    "# what I need for machine learning(NLP with TF-IDF and K-means): 备注/弹幕补充ing - str \n",
    "\n",
    "# ok let's clean!\n",
    "\n",
    "# rename\n",
    "df.rename(columns = {'市':'city', '省':'province', '专业': 'major', '学历':'study_degree', '工作年限':'work_year',  '年薪(不包括年终奖)':'annual_salary','年终奖':'bounce'}, inplace = True)\n",
    "\n",
    "# reorder: put columns with the same dtype together\n",
    "df = df[['province', 'city', 'major', 'study_degree', 'work_year', 'annual_salary', 'bounce']]\n",
    "\n",
    "# infer objects and conver data type\n",
    "df.convert_dtypes().dtypes\n",
    "\n",
    "# ahhh need to deal with int64 and float64\n",
    "import re\n",
    "\n",
    "# remove all chinese in numeric columns\n",
    "regex_chinese = re.compile(r'[\\u4e00-\\u9fff]+', flags=re.IGNORECASE)\n",
    "\n",
    "num_li = ['annual_salary', 'bounce', 'work_year']\n",
    "for i in num_li:\n",
    "    df[i] = df[i].str.replace(regex_chinese,'', regex=True)\n",
    "\n",
    "# remove all w/ W in annual_salary and bounce\n",
    "regex_w = re.compile(r'w', flags=re.IGNORECASE)\n",
    "\n",
    "df['annual_salary']=df['annual_salary'].str.replace(regex_w,'', regex=True)\n",
    "df['bounce']=df['bounce'].str.replace(regex_w,'', regex=True)\n",
    "\n",
    "# use the brutal force to convert dtype\n",
    "def coerce_df_columns_to_numeric(df, column_list):\n",
    "    df[column_list] = df[column_list].apply(pd.to_numeric, errors='coerce')\n",
    "\n",
    "coerce_df_columns_to_numeric(df,['work_year','bounce','annual_salary'])\n",
    "\n",
    "df.head(5)\n"
   ]
  },
  {
   "attachments": {},
   "cell_type": "markdown",
   "metadata": {},
   "source": [
    "quick statistics knowledge:\n",
    "\n",
    "how to analyze categorical data?\n",
    "\n",
    "ANOVA(A one-way analysis of variance) is used when the categorical variable has at least 3 groups (i.e three different unique values).\n",
    "\n",
    "What is EDA?\n",
    "\n",
    "Exploratory Data Analysis (EDA) is an approach to analyze the data using visual techniques. It is used to discover trends, patterns, or to check assumptions with the help of statistical summary and graphical representations.\n"
   ]
  },
  {
   "cell_type": "code",
   "execution_count": 81,
   "metadata": {},
   "outputs": [
    {
     "data": {
      "text/plain": [
       "<bound method IndexOpsMixin.tolist of Int64Index([125, 127, 141, 142, 197, 233, 329, 708, 1049, 1071, 1072, 1248,\n",
       "            1654],\n",
       "           dtype='int64')>"
      ]
     },
     "execution_count": 81,
     "metadata": {},
     "output_type": "execute_result"
    }
   ],
   "source": [
    "# EDA \n",
    "df.to_csv('semi_structured.csv')\n",
    "\n",
    "# oops we have outliners!\n",
    "df.describe()\n",
    "\n",
    "# let's detect and save/ kill these outliners!\n",
    "q = df['annual_salary'].quantile(0.99)\n",
    "d = df[df['annual_salary'] > q]\n",
    "\n",
    "d\n",
    "\n",
    "dli = d.index.to_list\n",
    "dli\n",
    "\n"
   ]
  },
  {
   "cell_type": "code",
   "execution_count": null,
   "metadata": {},
   "outputs": [],
   "source": []
  }
 ],
 "metadata": {
  "kernelspec": {
   "display_name": "valediction",
   "language": "python",
   "name": "python3"
  },
  "language_info": {
   "codemirror_mode": {
    "name": "ipython",
    "version": 3
   },
   "file_extension": ".py",
   "mimetype": "text/x-python",
   "name": "python",
   "nbconvert_exporter": "python",
   "pygments_lexer": "ipython3",
   "version": "3.10.8"
  },
  "orig_nbformat": 4,
  "vscode": {
   "interpreter": {
    "hash": "08eb5e11883c2e4340848a8db5c749d60b9586b9e6b4ecf05ec94dc7e26288a8"
   }
  }
 },
 "nbformat": 4,
 "nbformat_minor": 2
}
