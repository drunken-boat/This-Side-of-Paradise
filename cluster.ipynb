{
 "cells": [
  {
   "cell_type": "code",
   "execution_count": null,
   "metadata": {},
   "outputs": [],
   "source": [
    "import pandas as pd\n",
    "from sklearn.feature_extraction.text import TfidfVectorizer\n",
    "\n",
    "stop_words = [k.strip() for k in open('cn_stopwords.txt', encoding='utf8').readlines() if k.strip() != '']\n",
    "vectorizer = TfidfVectorizer(stop_words=stop_words, ngram_range=(1,2))\n",
    "df = pd.read_csv('salary.csv')\n",
    "\n",
    "df[['备注','弹幕填充ing']].to_csv('comment.txt', sep='\\t')\n",
    "X = vectorizer.fit_transform(['comment.txt'])"
   ]
  },
  {
   "cell_type": "code",
   "execution_count": null,
   "metadata": {},
   "outputs": [],
   "source": [
    "from sklearn.cluster import KMeans\n",
    "sum_of_squared_distances = []\n",
    "\n",
    "# Kmeans clustering\n",
    "\n",
    "K = range(1,5)\n",
    "for k in K:\n",
    "   km = KMeans(n_clusters=k, max_iter=10, n_init=1)\n",
    "   km.fit(X)\n",
    "   sum_of_squared_distances.append(km.inertia_)"
   ]
  }
 ],
 "metadata": {
  "kernelspec": {
   "display_name": "valediction",
   "language": "python",
   "name": "python3"
  },
  "language_info": {
   "codemirror_mode": {
    "name": "ipython",
    "version": 3
   },
   "file_extension": ".py",
   "mimetype": "text/x-python",
   "name": "python",
   "nbconvert_exporter": "python",
   "pygments_lexer": "ipython3",
   "version": "3.10.8"
  },
  "orig_nbformat": 4,
  "vscode": {
   "interpreter": {
    "hash": "08eb5e11883c2e4340848a8db5c749d60b9586b9e6b4ecf05ec94dc7e26288a8"
   }
  }
 },
 "nbformat": 4,
 "nbformat_minor": 2
}
